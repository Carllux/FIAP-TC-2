{
 "cells": [
  {
   "cell_type": "markdown",
   "id": "9f8ab657",
   "metadata": {},
   "source": [
    "## 🔄 Ajuste do Diretório de Trabalho\n",
    "\n",
    "Antes de carregar ou manipular arquivos, é importante garantir que estamos no diretório correto do projeto.  \n",
    "O código abaixo verifica se o notebook está sendo executado a partir da pasta `notebooks`. Se for o caso, ele sobe um nível na hierarquia de diretórios para garantir que o diretório de trabalho seja a raiz do projeto.\n",
    "\n",
    "Isso é útil para manter caminhos relativos consistentes ao acessar dados, scripts ou outros recursos do projeto.\n",
    "\n",
    "📌 **Resumo do que o código faz:**\n",
    "- Verifica se o diretório atual termina com `notebooks`.\n",
    "- Se sim, volta uma pasta (para a raiz do projeto).\n",
    "- Exibe o novo diretório de trabalho.\n"
   ]
  },
  {
   "cell_type": "code",
   "execution_count": 1,
   "id": "8bb73e07",
   "metadata": {},
   "outputs": [
    {
     "name": "stdout",
     "output_type": "stream",
     "text": [
      "Diretório de Trabalho Atual: c:\\Users\\Carlo\\Desktop\\Portfolio\\postech-challenge-ibov\n"
     ]
    }
   ],
   "source": [
    "import os\n",
    "\n",
    "# Verifica se o diretório de trabalho atual termina com 'notebooks'\n",
    "if os.path.basename(os.getcwd()) == 'notebooks':\n",
    "    # Se sim, sobe um nível de diretório para a pasta raiz do projeto\n",
    "    os.chdir('..')\n",
    "\n",
    "# Imprime o diretório de trabalho para confirmar que a mudança foi feita\n",
    "print(f\"Diretório de Trabalho Atual: {os.getcwd()}\")"
   ]
  },
  {
   "cell_type": "markdown",
   "id": "677da460",
   "metadata": {},
   "source": [
    "## 📦 Carregamento das Bibliotecas para a Fase 3: Modelagem Preditiva\n",
    "\n",
    "Nesta etapa, carregamos todas as bibliotecas necessárias para realizar o treinamento, validação e interpretação de modelos de Machine Learning aplicados à previsão da tendência do Ibovespa.\n",
    "\n",
    "---\n",
    "\n",
    "### 🔧 Principais Componentes Importados:\n",
    "\n",
    "#### 📊 Manipulação de Dados\n",
    "- `pandas`, `numpy`: Estruturação e transformação de dados tabulares e numéricos.\n",
    "- `duckdb`: Consulta e carregamento eficiente da base persistida na fase anterior.\n",
    "\n",
    "#### ⚙️ Modelagem e Avaliação\n",
    "- `lightgbm`: Framework de gradient boosting eficiente, usado para modelagem supervisionada.\n",
    "- `sklearn.model_selection.train_test_split`: Divisão da base de forma temporal para simular previsão realista.\n",
    "- `sklearn.metrics`: Avaliação com métricas como `accuracy`, `ROC AUC`, `confusion_matrix`.\n",
    "\n",
    "#### 🧠 Interpretação do Modelo\n",
    "- `shap`: Framework de interpretabilidade para entender a importância das features no modelo treinado.\n",
    "\n",
    "#### 📈 Visualização\n",
    "- `matplotlib`, `seaborn`: Criação de gráficos e análise visual dos resultados.\n",
    "\n",
    "#### 🛠️ Configuração do Projeto\n",
    "- `src.config`: Importa o caminho e demais parâmetros definidos nas fases anteriores.\n",
    "\n",
    "---\n",
    "\n",
    "✅ Todas as bibliotecas e dependências da **Fase 3 - Modelagem** foram carregadas com sucesso e estão prontas para uso.\n"
   ]
  },
  {
   "cell_type": "code",
   "execution_count": 2,
   "id": "6f8cf2eb",
   "metadata": {},
   "outputs": [
    {
     "name": "stderr",
     "output_type": "stream",
     "text": [
      "c:\\Users\\Carlo\\Desktop\\Portfolio\\postech-challenge-ibov\\.venv\\Lib\\site-packages\\tqdm\\auto.py:21: TqdmWarning: IProgress not found. Please update jupyter and ipywidgets. See https://ipywidgets.readthedocs.io/en/stable/user_install.html\n",
      "  from .autonotebook import tqdm as notebook_tqdm\n"
     ]
    },
    {
     "name": "stdout",
     "output_type": "stream",
     "text": [
      "✅ Bibliotecas para a Fase 3 carregadas com sucesso!\n"
     ]
    }
   ],
   "source": [
    "import duckdb\n",
    "import pandas as pd\n",
    "import numpy as np\n",
    "import lightgbm as lgb\n",
    "import shap\n",
    "from sklearn.model_selection import train_test_split # Usaremos para a divisão temporal\n",
    "from sklearn.metrics import accuracy_score, classification_report, roc_auc_score, confusion_matrix, ConfusionMatrixDisplay\n",
    "import matplotlib.pyplot as plt\n",
    "import seaborn as sns\n",
    "from sklearn.inspection import permutation_importance\n",
    "\n",
    "# Importa nossas configurações de projeto\n",
    "import src.config as config\n",
    "\n",
    "# Helpers do Notebook\n",
    "from IPython.display import display\n",
    "\n",
    "# Configurações de estilo\n",
    "sns.set_theme(style='whitegrid', palette='viridis')\n",
    "plt.style.use(\"fivethirtyeight\")\n",
    "%matplotlib inline\n",
    "\n",
    "print(\"✅ Bibliotecas para a Fase 3 carregadas com sucesso!\")"
   ]
  },
  {
   "cell_type": "markdown",
   "id": "e0a086f8",
   "metadata": {},
   "source": [
    "## 🧱 Carregamento dos Dados para Modelagem\n",
    "\n",
    "Nesta etapa, buscamos no banco de dados DuckDB a tabela `features_completas`, que contém todas as variáveis criadas e tratadas na **Fase 2** do projeto. Esses dados são a base para o treinamento dos modelos de Machine Learning.\n",
    "\n",
    "---\n",
    "\n",
    "### 📥 Etapas Realizadas:\n",
    "\n",
    "1. **Conexão ao Banco DuckDB**\n",
    "   - Utilizamos o caminho salvo no módulo `config`.\n",
    "\n",
    "2. **Leitura da Tabela `features_completas`**\n",
    "   - A tabela contém os dados finais após a engenharia de atributos, com a variável `alvo` (target) já definida.\n",
    "\n",
    "3. **Conversão da Coluna `data`**\n",
    "   - A coluna `data` é convertida para o tipo `datetime` e definida como índice do DataFrame.\n",
    "   - Essa configuração é fundamental para **garantir uma divisão temporal correta** entre treino e teste, evitando vazamento de dados.\n",
    "\n",
    "---\n",
    "\n",
    "✅ Ao final desta célula, temos o DataFrame `df_model` carregado, indexado por data e pronto para os próximos passos de preparação e modelagem.\n"
   ]
  },
  {
   "cell_type": "code",
   "execution_count": 3,
   "id": "80aa981d",
   "metadata": {},
   "outputs": [
    {
     "name": "stdout",
     "output_type": "stream",
     "text": [
      "Carregando dados da tabela 'features_completas' de: C:\\Users\\Carlo\\Desktop\\Portfolio\\postech-challenge-ibov\\data\\mercados.duckdb\n",
      "\n",
      "✅ Dados para modelagem carregados com sucesso!\n",
      "Estrutura do DataFrame:\n",
      "<class 'pandas.core.frame.DataFrame'>\n",
      "DatetimeIndex: 2975 entries, 2014-02-05 to 2025-07-03\n",
      "Data columns (total 83 columns):\n",
      " #   Column                           Non-Null Count  Dtype  \n",
      "---  ------                           --------------  -----  \n",
      " 0   close_petroleo_brent             2975 non-null   float64\n",
      " 1   close_petrobras                  2975 non-null   float64\n",
      " 2   close_dolar                      2975 non-null   float64\n",
      " 3   close_ibovespa                   2975 non-null   float64\n",
      " 4   close_sp500                      2975 non-null   float64\n",
      " 5   high_petroleo_brent              2975 non-null   float64\n",
      " 6   high_petrobras                   2975 non-null   float64\n",
      " 7   high_dolar                       2975 non-null   float64\n",
      " 8   high_ibovespa                    2975 non-null   float64\n",
      " 9   high_sp500                       2975 non-null   float64\n",
      " 10  low_petroleo_brent               2975 non-null   float64\n",
      " 11  low_petrobras                    2975 non-null   float64\n",
      " 12  low_dolar                        2975 non-null   float64\n",
      " 13  low_ibovespa                     2975 non-null   float64\n",
      " 14  low_sp500                        2975 non-null   float64\n",
      " 15  open_petroleo_brent              2975 non-null   float64\n",
      " 16  open_petrobras                   2975 non-null   float64\n",
      " 17  open_dolar                       2975 non-null   float64\n",
      " 18  open_ibovespa                    2975 non-null   float64\n",
      " 19  open_sp500                       2975 non-null   float64\n",
      " 20  semana_do_mes                    2975 non-null   int32  \n",
      " 21  alvo                             2975 non-null   int32  \n",
      " 22  petroleo_brent_ret_acum_2d       2975 non-null   float64\n",
      " 23  petroleo_brent_ret_acum_5d       2975 non-null   float64\n",
      " 24  petroleo_brent_ret_acum_10d      2975 non-null   float64\n",
      " 25  petroleo_brent_ret_acum_21d      2975 non-null   float64\n",
      " 26  petrobras_ret_acum_2d            2975 non-null   float64\n",
      " 27  petrobras_ret_acum_5d            2975 non-null   float64\n",
      " 28  petrobras_ret_acum_10d           2975 non-null   float64\n",
      " 29  petrobras_ret_acum_21d           2975 non-null   float64\n",
      " 30  dolar_ret_acum_2d                2975 non-null   float64\n",
      " 31  dolar_ret_acum_5d                2975 non-null   float64\n",
      " 32  dolar_ret_acum_10d               2975 non-null   float64\n",
      " 33  dolar_ret_acum_21d               2975 non-null   float64\n",
      " 34  ibovespa_ret_acum_2d             2975 non-null   float64\n",
      " 35  ibovespa_ret_acum_5d             2975 non-null   float64\n",
      " 36  ibovespa_ret_acum_10d            2975 non-null   float64\n",
      " 37  ibovespa_ret_acum_21d            2975 non-null   float64\n",
      " 38  sp500_ret_acum_2d                2975 non-null   float64\n",
      " 39  sp500_ret_acum_5d                2975 non-null   float64\n",
      " 40  sp500_ret_acum_10d               2975 non-null   float64\n",
      " 41  sp500_ret_acum_21d               2975 non-null   float64\n",
      " 42  petroleo_brent_ret_diario        2975 non-null   float64\n",
      " 43  petrobras_ret_diario             2975 non-null   float64\n",
      " 44  dolar_ret_diario                 2975 non-null   float64\n",
      " 45  ibovespa_ret_diario              2975 non-null   float64\n",
      " 46  sp500_ret_diario                 2975 non-null   float64\n",
      " 47  petroleo_brent_ret_diario_lag_1  2975 non-null   float64\n",
      " 48  petrobras_ret_diario_lag_1       2975 non-null   float64\n",
      " 49  dolar_ret_diario_lag_1           2975 non-null   float64\n",
      " 50  ibovespa_ret_diario_lag_1        2975 non-null   float64\n",
      " 51  sp500_ret_diario_lag_1           2975 non-null   float64\n",
      " 52  petroleo_brent_ret_diario_lag_2  2975 non-null   float64\n",
      " 53  petrobras_ret_diario_lag_2       2975 non-null   float64\n",
      " 54  dolar_ret_diario_lag_2           2975 non-null   float64\n",
      " 55  ibovespa_ret_diario_lag_2        2975 non-null   float64\n",
      " 56  sp500_ret_diario_lag_2           2975 non-null   float64\n",
      " 57  petroleo_brent_ret_diario_lag_3  2975 non-null   float64\n",
      " 58  petrobras_ret_diario_lag_3       2975 non-null   float64\n",
      " 59  dolar_ret_diario_lag_3           2975 non-null   float64\n",
      " 60  ibovespa_ret_diario_lag_3        2975 non-null   float64\n",
      " 61  sp500_ret_diario_lag_3           2975 non-null   float64\n",
      " 62  petroleo_brent_ret_diario_lag_5  2975 non-null   float64\n",
      " 63  petrobras_ret_diario_lag_5       2975 non-null   float64\n",
      " 64  dolar_ret_diario_lag_5           2975 non-null   float64\n",
      " 65  ibovespa_ret_diario_lag_5        2975 non-null   float64\n",
      " 66  sp500_ret_diario_lag_5           2975 non-null   float64\n",
      " 67  gap_open_close_ibov              2975 non-null   float64\n",
      " 68  candle_body_ibov                 2975 non-null   float64\n",
      " 69  candle_range_ibov                2975 non-null   float64\n",
      " 70  ret_sp500_ontem                  2975 non-null   float64\n",
      " 71  ret_dolar_ontem                  2975 non-null   float64\n",
      " 72  BBL_5_2.0                        2975 non-null   float64\n",
      " 73  BBM_5_2.0                        2975 non-null   float64\n",
      " 74  BBU_5_2.0                        2975 non-null   float64\n",
      " 75  BBB_5_2.0                        2975 non-null   float64\n",
      " 76  BBP_5_2.0                        2975 non-null   float64\n",
      " 77  spread_petro_ibov                2975 non-null   float64\n",
      " 78  ret_dolar_1d                     2975 non-null   float64\n",
      " 79  ret_ibov_1d                      2975 non-null   float64\n",
      " 80  ret_diff_dolar_ibov              2975 non-null   float64\n",
      " 81  dia_da_semana                    2975 non-null   int32  \n",
      " 82  mes                              2975 non-null   int32  \n",
      "dtypes: float64(79), int32(4)\n",
      "memory usage: 1.9 MB\n"
     ]
    }
   ],
   "source": [
    "print(f\"Carregando dados da tabela 'features_completas' de: {config.DB_PATH}\")\n",
    "\n",
    "try:\n",
    "    con = duckdb.connect(database=str(config.DB_PATH), read_only=True)\n",
    "    # MUITO IMPORTANTE: Selecionar da nova tabela com todas as features\n",
    "    df_model = con.execute(\"SELECT * FROM features_completas\").fetchdf()\n",
    "    con.close()\n",
    "\n",
    "    # Configura a coluna 'data' como o índice para facilitar a divisão temporal\n",
    "    df_model['data'] = pd.to_datetime(df_model['data'])\n",
    "    df_model.set_index('data', inplace=True)\n",
    "\n",
    "    print(\"\\n✅ Dados para modelagem carregados com sucesso!\")\n",
    "    print(\"Estrutura do DataFrame:\")\n",
    "    df_model.info()\n",
    "\n",
    "except Exception as e:\n",
    "    print(f\"❌ Ocorreu um erro ao carregar os dados: {e}\")"
   ]
  },
  {
   "cell_type": "markdown",
   "id": "8b417766",
   "metadata": {},
   "source": [
    "## 🎯 Criação da Variável Alvo Multiclasse\n",
    "\n",
    "Para refinar o problema e permitir abordagens mais sofisticadas de modelagem, transformamos o alvo binário em uma **variável multiclasse com 3 categorias**, baseada na magnitude do retorno do dia seguinte do Ibovespa.\n",
    "\n",
    "---\n",
    "\n",
    "### 🧪 Lógica Utilizada\n",
    "\n",
    "- **Classe 1 – Alta Significativa**: Retorno > +0.5%\n",
    "- **Classe -1 – Baixa Significativa**: Retorno < -0.5%\n",
    "- **Classe 0 – Neutro**: Variação entre -0.5% e +0.5%\n",
    "\n",
    "Essa abordagem permite que o modelo diferencie entre movimentos significativos de mercado e ruídos de variação diária, tornando a previsão mais realista para aplicações práticas como alocação de risco e decisões de trading.\n",
    "\n",
    "---\n",
    "\n",
    "### 🔍 Resultado\n",
    "\n",
    "A distribuição das classes no conjunto de dados foi verificada, garantindo equilíbrio e viabilidade para modelagem multiclasse. A última linha (que teria alvo indefinido) foi removida para manter a integridade do dataset.\n"
   ]
  },
  {
   "cell_type": "code",
   "execution_count": 4,
   "id": "ea2b8b98",
   "metadata": {},
   "outputs": [
    {
     "name": "stdout",
     "output_type": "stream",
     "text": [
      "--- Refinando o Problema: Criação do Alvo Multiclasse ---\n",
      "\n",
      "Distribuição do nosso novo alvo multiclasse (em %):\n",
      "alvo_multiclasse\n",
      "-1    29.58%\n",
      " 0    36.64%\n",
      " 1    33.78%\n",
      "Name: proportion, dtype: object\n",
      "\n",
      "Exibindo as últimas linhas com o novo alvo para validação manual:\n"
     ]
    },
    {
     "data": {
      "application/vnd.microsoft.datawrangler.viewer.v0+json": {
       "columns": [
        {
         "name": "data",
         "rawType": "datetime64[ns]",
         "type": "datetime"
        },
        {
         "name": "close_ibovespa",
         "rawType": "float64",
         "type": "float"
        },
        {
         "name": "alvo_multiclasse",
         "rawType": "int32",
         "type": "integer"
        }
       ],
       "ref": "7004a627-3e64-43cb-ac1a-82a9006c0ef8",
       "rows": [
        [
         "2025-06-20 00:00:00",
         "137116.0",
         "0"
        ],
        [
         "2025-06-23 00:00:00",
         "136551.0",
         "0"
        ],
        [
         "2025-06-24 00:00:00",
         "137165.0",
         "-1"
        ],
        [
         "2025-06-25 00:00:00",
         "135767.0",
         "1"
        ],
        [
         "2025-06-26 00:00:00",
         "137114.0",
         "0"
        ],
        [
         "2025-06-27 00:00:00",
         "136866.0",
         "1"
        ],
        [
         "2025-06-30 00:00:00",
         "138855.0",
         "0"
        ],
        [
         "2025-07-01 00:00:00",
         "139549.0",
         "0"
        ],
        [
         "2025-07-02 00:00:00",
         "139051.0",
         "1"
        ],
        [
         "2025-07-03 00:00:00",
         "140928.0",
         "0"
        ]
       ],
       "shape": {
        "columns": 2,
        "rows": 10
       }
      },
      "text/html": [
       "<div>\n",
       "<style scoped>\n",
       "    .dataframe tbody tr th:only-of-type {\n",
       "        vertical-align: middle;\n",
       "    }\n",
       "\n",
       "    .dataframe tbody tr th {\n",
       "        vertical-align: top;\n",
       "    }\n",
       "\n",
       "    .dataframe thead th {\n",
       "        text-align: right;\n",
       "    }\n",
       "</style>\n",
       "<table border=\"1\" class=\"dataframe\">\n",
       "  <thead>\n",
       "    <tr style=\"text-align: right;\">\n",
       "      <th></th>\n",
       "      <th>close_ibovespa</th>\n",
       "      <th>alvo_multiclasse</th>\n",
       "    </tr>\n",
       "    <tr>\n",
       "      <th>data</th>\n",
       "      <th></th>\n",
       "      <th></th>\n",
       "    </tr>\n",
       "  </thead>\n",
       "  <tbody>\n",
       "    <tr>\n",
       "      <th>2025-06-20</th>\n",
       "      <td>137116.0</td>\n",
       "      <td>0</td>\n",
       "    </tr>\n",
       "    <tr>\n",
       "      <th>2025-06-23</th>\n",
       "      <td>136551.0</td>\n",
       "      <td>0</td>\n",
       "    </tr>\n",
       "    <tr>\n",
       "      <th>2025-06-24</th>\n",
       "      <td>137165.0</td>\n",
       "      <td>-1</td>\n",
       "    </tr>\n",
       "    <tr>\n",
       "      <th>2025-06-25</th>\n",
       "      <td>135767.0</td>\n",
       "      <td>1</td>\n",
       "    </tr>\n",
       "    <tr>\n",
       "      <th>2025-06-26</th>\n",
       "      <td>137114.0</td>\n",
       "      <td>0</td>\n",
       "    </tr>\n",
       "    <tr>\n",
       "      <th>2025-06-27</th>\n",
       "      <td>136866.0</td>\n",
       "      <td>1</td>\n",
       "    </tr>\n",
       "    <tr>\n",
       "      <th>2025-06-30</th>\n",
       "      <td>138855.0</td>\n",
       "      <td>0</td>\n",
       "    </tr>\n",
       "    <tr>\n",
       "      <th>2025-07-01</th>\n",
       "      <td>139549.0</td>\n",
       "      <td>0</td>\n",
       "    </tr>\n",
       "    <tr>\n",
       "      <th>2025-07-02</th>\n",
       "      <td>139051.0</td>\n",
       "      <td>1</td>\n",
       "    </tr>\n",
       "    <tr>\n",
       "      <th>2025-07-03</th>\n",
       "      <td>140928.0</td>\n",
       "      <td>0</td>\n",
       "    </tr>\n",
       "  </tbody>\n",
       "</table>\n",
       "</div>"
      ],
      "text/plain": [
       "            close_ibovespa  alvo_multiclasse\n",
       "data                                        \n",
       "2025-06-20        137116.0                 0\n",
       "2025-06-23        136551.0                 0\n",
       "2025-06-24        137165.0                -1\n",
       "2025-06-25        135767.0                 1\n",
       "2025-06-26        137114.0                 0\n",
       "2025-06-27        136866.0                 1\n",
       "2025-06-30        138855.0                 0\n",
       "2025-07-01        139549.0                 0\n",
       "2025-07-02        139051.0                 1\n",
       "2025-07-03        140928.0                 0"
      ]
     },
     "metadata": {},
     "output_type": "display_data"
    }
   ],
   "source": [
    "# O DataFrame 'df_model' foi carregado e tem a data como índice.\n",
    "\n",
    "print(\"--- Refinando o Problema: Criação do Alvo Multiclasse ---\")\n",
    "\n",
    "# 1. Definimos o nosso threshold de significância.\n",
    "# Um movimento de 0.5% (0.005) é um bom ponto de partida.\n",
    "# Podemos ajustar este valor mais tarde se necessário.\n",
    "threshold = 0.005\n",
    "\n",
    "# 2. Calculamos o retorno do dia seguinte para o Ibovespa\n",
    "retorno_futuro = df_model['close_ibovespa'].pct_change().shift(-1)\n",
    "\n",
    "# 3. Criamos a nova coluna 'alvo_multiclasse' com a lógica de 3 classes\n",
    "# Usamos np.where aninhado, que funciona como um \"SE/SENÃOSE/SENÃO\"\n",
    "df_model['alvo_multiclasse'] = np.where(\n",
    "    retorno_futuro > threshold,      # Condição 1: Se o retorno futuro for > 0.5%\n",
    "    1,                               # Então, a classe é 1 (Alta Significativa)\n",
    "    np.where(\n",
    "        retorno_futuro < -threshold, # Condição 2: Se o retorno futuro for < -0.5%\n",
    "        -1,                          # Então, a classe é -1 (Baixa Significativa)\n",
    "        0                            # Caso contrário, a classe é 0 (Neutra)\n",
    "    )\n",
    ")\n",
    "\n",
    "# 4. Removemos o último dia, que terá um NaN no alvo\n",
    "df_model.dropna(subset=['alvo_multiclasse'], inplace=True)\n",
    "\n",
    "# --- Verificação ---\n",
    "print(\"\\nDistribuição do nosso novo alvo multiclasse (em %):\")\n",
    "# Usamos value_counts para ver quantas amostras temos de cada classe\n",
    "print(df_model['alvo_multiclasse'].value_counts(normalize=True).sort_index().map('{:.2%}'.format))\n",
    "\n",
    "print(\"\\nExibindo as últimas linhas com o novo alvo para validação manual:\")\n",
    "display(df_model[['close_ibovespa', 'alvo_multiclasse']].tail(10))"
   ]
  }
 ],
 "metadata": {
  "kernelspec": {
   "display_name": ".venv",
   "language": "python",
   "name": "python3"
  },
  "language_info": {
   "codemirror_mode": {
    "name": "ipython",
    "version": 3
   },
   "file_extension": ".py",
   "mimetype": "text/x-python",
   "name": "python",
   "nbconvert_exporter": "python",
   "pygments_lexer": "ipython3",
   "version": "3.11.9"
  }
 },
 "nbformat": 4,
 "nbformat_minor": 5
}
