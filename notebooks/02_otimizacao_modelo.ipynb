{
 "cells": [
  {
   "cell_type": "markdown",
   "id": "9f8ab657",
   "metadata": {},
   "source": [
    "## 🔄 Ajuste do Diretório de Trabalho\n",
    "\n",
    "Antes de carregar ou manipular arquivos, é importante garantir que estamos no diretório correto do projeto.  \n",
    "O código abaixo verifica se o notebook está sendo executado a partir da pasta `notebooks`. Se for o caso, ele sobe um nível na hierarquia de diretórios para garantir que o diretório de trabalho seja a raiz do projeto.\n",
    "\n",
    "Isso é útil para manter caminhos relativos consistentes ao acessar dados, scripts ou outros recursos do projeto.\n",
    "\n",
    "📌 **Resumo do que o código faz:**\n",
    "- Verifica se o diretório atual termina com `notebooks`.\n",
    "- Se sim, volta uma pasta (para a raiz do projeto).\n",
    "- Exibe o novo diretório de trabalho.\n"
   ]
  },
  {
   "cell_type": "code",
   "execution_count": 1,
   "id": "8bb73e07",
   "metadata": {},
   "outputs": [
    {
     "name": "stdout",
     "output_type": "stream",
     "text": [
      "Diretório de Trabalho Atual: c:\\Users\\Carlo\\Desktop\\Portfolio\\postech-challenge-ibov\n"
     ]
    }
   ],
   "source": [
    "import os\n",
    "\n",
    "# Verifica se o diretório de trabalho atual termina com 'notebooks'\n",
    "if os.path.basename(os.getcwd()) == 'notebooks':\n",
    "    # Se sim, sobe um nível de diretório para a pasta raiz do projeto\n",
    "    os.chdir('..')\n",
    "\n",
    "# Imprime o diretório de trabalho para confirmar que a mudança foi feita\n",
    "print(f\"Diretório de Trabalho Atual: {os.getcwd()}\")"
   ]
  },
  {
   "cell_type": "markdown",
   "id": "677da460",
   "metadata": {},
   "source": [
    "## 📦 Carregamento das Bibliotecas para a Fase 3: Modelagem Preditiva\n",
    "\n",
    "Nesta etapa, carregamos todas as bibliotecas necessárias para realizar o treinamento, validação e interpretação de modelos de Machine Learning aplicados à previsão da tendência do Ibovespa.\n",
    "\n",
    "---\n",
    "\n",
    "### 🔧 Principais Componentes Importados:\n",
    "\n",
    "#### 📊 Manipulação de Dados\n",
    "- `pandas`, `numpy`: Estruturação e transformação de dados tabulares e numéricos.\n",
    "- `duckdb`: Consulta e carregamento eficiente da base persistida na fase anterior.\n",
    "\n",
    "#### ⚙️ Modelagem e Avaliação\n",
    "- `lightgbm`: Framework de gradient boosting eficiente, usado para modelagem supervisionada.\n",
    "- `sklearn.model_selection.train_test_split`: Divisão da base de forma temporal para simular previsão realista.\n",
    "- `sklearn.metrics`: Avaliação com métricas como `accuracy`, `ROC AUC`, `confusion_matrix`.\n",
    "\n",
    "#### 🧠 Interpretação do Modelo\n",
    "- `shap`: Framework de interpretabilidade para entender a importância das features no modelo treinado.\n",
    "\n",
    "#### 📈 Visualização\n",
    "- `matplotlib`, `seaborn`: Criação de gráficos e análise visual dos resultados.\n",
    "\n",
    "#### 🛠️ Configuração do Projeto\n",
    "- `src.config`: Importa o caminho e demais parâmetros definidos nas fases anteriores.\n",
    "\n",
    "---\n",
    "\n",
    "✅ Todas as bibliotecas e dependências da **Fase 3 - Modelagem** foram carregadas com sucesso e estão prontas para uso.\n"
   ]
  },
  {
   "cell_type": "code",
   "execution_count": 2,
   "id": "6f8cf2eb",
   "metadata": {},
   "outputs": [
    {
     "name": "stderr",
     "output_type": "stream",
     "text": [
      "c:\\Users\\Carlo\\Desktop\\Portfolio\\postech-challenge-ibov\\.venv\\Lib\\site-packages\\tqdm\\auto.py:21: TqdmWarning: IProgress not found. Please update jupyter and ipywidgets. See https://ipywidgets.readthedocs.io/en/stable/user_install.html\n",
      "  from .autonotebook import tqdm as notebook_tqdm\n"
     ]
    },
    {
     "name": "stdout",
     "output_type": "stream",
     "text": [
      "✅ Bibliotecas para a Fase 3 carregadas com sucesso!\n"
     ]
    }
   ],
   "source": [
    "import duckdb\n",
    "import pandas as pd\n",
    "import numpy as np\n",
    "import lightgbm as lgb\n",
    "import shap\n",
    "from sklearn.model_selection import train_test_split # Usaremos para a divisão temporal\n",
    "from sklearn.metrics import accuracy_score, classification_report, roc_auc_score, confusion_matrix, ConfusionMatrixDisplay\n",
    "import matplotlib.pyplot as plt\n",
    "import seaborn as sns\n",
    "from sklearn.inspection import permutation_importance\n",
    "\n",
    "# Importa nossas configurações de projeto\n",
    "import src.config as config\n",
    "\n",
    "# Helpers do Notebook\n",
    "from IPython.display import display\n",
    "\n",
    "# Configurações de estilo\n",
    "sns.set_theme(style='whitegrid', palette='viridis')\n",
    "plt.style.use(\"fivethirtyeight\")\n",
    "%matplotlib inline\n",
    "\n",
    "print(\"✅ Bibliotecas para a Fase 3 carregadas com sucesso!\")"
   ]
  },
  {
   "cell_type": "markdown",
   "id": "e0a086f8",
   "metadata": {},
   "source": []
  },
  {
   "cell_type": "code",
   "execution_count": null,
   "id": "80aa981d",
   "metadata": {},
   "outputs": [],
   "source": []
  }
 ],
 "metadata": {
  "kernelspec": {
   "display_name": ".venv",
   "language": "python",
   "name": "python3"
  },
  "language_info": {
   "codemirror_mode": {
    "name": "ipython",
    "version": 3
   },
   "file_extension": ".py",
   "mimetype": "text/x-python",
   "name": "python",
   "nbconvert_exporter": "python",
   "pygments_lexer": "ipython3",
   "version": "3.11.9"
  }
 },
 "nbformat": 4,
 "nbformat_minor": 5
}
